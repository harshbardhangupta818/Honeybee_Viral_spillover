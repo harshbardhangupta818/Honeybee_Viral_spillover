{
 "cells": [
  {
   "cell_type": "code",
   "execution_count": 11,
   "id": "269e3a30",
   "metadata": {},
   "outputs": [],
   "source": [
    "import glob\n",
    "import os\n",
    "os.chdir(\"/Users/hbg/Documents/filtered_contigs/first_alignment_60/alignments/main_alignment/without_rec_region/\")\n",
    "f1 = glob.glob(\"*\")"
   ]
  },
  {
   "cell_type": "code",
   "execution_count": 12,
   "id": "2cab0a25",
   "metadata": {},
   "outputs": [
    {
     "data": {
      "text/plain": [
       "['LSV_main_rec_reg.nex',\n",
       " 'TRSV_with_rec.nex',\n",
       " 'KBV_main_rec_reg.nex',\n",
       " 'CBPV_with_rec.nex',\n",
       " 'DWV_without_rec_region.nex',\n",
       " 'SV_with_rec.nex',\n",
       " 'ABPV_main_rec_reg.nex',\n",
       " 'SBPV_main_rec_reg.nex',\n",
       " 'KV_with_rec.nex',\n",
       " 'BQCV_main_rec_reg.nex',\n",
       " 'IAPV_with_rec.nex']"
      ]
     },
     "execution_count": 12,
     "metadata": {},
     "output_type": "execute_result"
    }
   ],
   "source": [
    "f1"
   ]
  },
  {
   "cell_type": "code",
   "execution_count": 13,
   "id": "3ed72799",
   "metadata": {},
   "outputs": [
    {
     "data": {
      "text/plain": [
       "['LSV_main_rec_reg.nex',\n",
       " 'TRSV_with_rec.nex',\n",
       " 'KBV_main_rec_reg.nex',\n",
       " 'CBPV_with_rec.nex',\n",
       " 'DWV_without_rec_region.nex',\n",
       " 'SV_with_rec.nex',\n",
       " 'ABPV_main_rec_reg.nex',\n",
       " 'SBPV_main_rec_reg.nex',\n",
       " 'KV_with_rec.nex',\n",
       " 'BQCV_main_rec_reg.nex',\n",
       " 'IAPV_with_rec.nex']"
      ]
     },
     "execution_count": 13,
     "metadata": {},
     "output_type": "execute_result"
    }
   ],
   "source": [
    "fr = f1\n",
    "fr"
   ]
  },
  {
   "cell_type": "code",
   "execution_count": 14,
   "id": "9cbf4179",
   "metadata": {},
   "outputs": [],
   "source": [
    "from ete3 import NCBITaxa\n",
    "ncbi = NCBITaxa()"
   ]
  },
  {
   "cell_type": "code",
   "execution_count": 7,
   "id": "03b686e6",
   "metadata": {},
   "outputs": [],
   "source": [
    "descendants = ncbi.get_descendant_taxa('Anthophila', collapse_subspecies=True)\n",
    "bees = ncbi.translate_to_names(descendants)"
   ]
  },
  {
   "cell_type": "code",
   "execution_count": 8,
   "id": "864d659a",
   "metadata": {},
   "outputs": [],
   "source": [
    "import pycountry_convert as pc\n",
    "\n",
    "def country_to_continent(country_name):\n",
    "    country_alpha2 = pc.country_name_to_country_alpha2(country_name)\n",
    "    country_continent_code = pc.country_alpha2_to_continent_code(country_alpha2)\n",
    "    country_continent_name = pc.convert_continent_code_to_continent_name(country_continent_code)\n",
    "    return country_continent_name"
   ]
  },
  {
   "cell_type": "code",
   "execution_count": 10,
   "id": "1432faf0",
   "metadata": {},
   "outputs": [
    {
     "ename": "FileNotFoundError",
     "evalue": "[Errno 2] No such file or directory: 'D'",
     "output_type": "error",
     "traceback": [
      "\u001b[0;31m---------------------------------------------------------------------------\u001b[0m",
      "\u001b[0;31mFileNotFoundError\u001b[0m                         Traceback (most recent call last)",
      "Cell \u001b[0;32mIn[10], line 3\u001b[0m\n\u001b[1;32m      1\u001b[0m \u001b[38;5;28;01mfor\u001b[39;00m fn \u001b[38;5;129;01min\u001b[39;00m fr:\n\u001b[1;32m      2\u001b[0m     \u001b[38;5;28;01mimport\u001b[39;00m \u001b[38;5;21;01mcsv\u001b[39;00m\n\u001b[0;32m----> 3\u001b[0m     \u001b[38;5;28;01mwith\u001b[39;00m \u001b[38;5;28mopen\u001b[39m(fn) \u001b[38;5;28;01mas\u001b[39;00m f:\n\u001b[1;32m      4\u001b[0m         reader \u001b[38;5;241m=\u001b[39m csv\u001b[38;5;241m.\u001b[39mreader(f, delimiter\u001b[38;5;241m=\u001b[39m\u001b[38;5;124m\"\u001b[39m\u001b[38;5;130;01m\\t\u001b[39;00m\u001b[38;5;124m\"\u001b[39m)\n\u001b[1;32m      5\u001b[0m         d \u001b[38;5;241m=\u001b[39m \u001b[38;5;28mlist\u001b[39m(reader)\n",
      "File \u001b[0;32m~/anaconda3/lib/python3.11/site-packages/IPython/core/interactiveshell.py:286\u001b[0m, in \u001b[0;36m_modified_open\u001b[0;34m(file, *args, **kwargs)\u001b[0m\n\u001b[1;32m    279\u001b[0m \u001b[38;5;28;01mif\u001b[39;00m file \u001b[38;5;129;01min\u001b[39;00m {\u001b[38;5;241m0\u001b[39m, \u001b[38;5;241m1\u001b[39m, \u001b[38;5;241m2\u001b[39m}:\n\u001b[1;32m    280\u001b[0m     \u001b[38;5;28;01mraise\u001b[39;00m \u001b[38;5;167;01mValueError\u001b[39;00m(\n\u001b[1;32m    281\u001b[0m         \u001b[38;5;124mf\u001b[39m\u001b[38;5;124m\"\u001b[39m\u001b[38;5;124mIPython won\u001b[39m\u001b[38;5;124m'\u001b[39m\u001b[38;5;124mt let you open fd=\u001b[39m\u001b[38;5;132;01m{\u001b[39;00mfile\u001b[38;5;132;01m}\u001b[39;00m\u001b[38;5;124m by default \u001b[39m\u001b[38;5;124m\"\u001b[39m\n\u001b[1;32m    282\u001b[0m         \u001b[38;5;124m\"\u001b[39m\u001b[38;5;124mas it is likely to crash IPython. If you know what you are doing, \u001b[39m\u001b[38;5;124m\"\u001b[39m\n\u001b[1;32m    283\u001b[0m         \u001b[38;5;124m\"\u001b[39m\u001b[38;5;124myou can use builtins\u001b[39m\u001b[38;5;124m'\u001b[39m\u001b[38;5;124m open.\u001b[39m\u001b[38;5;124m\"\u001b[39m\n\u001b[1;32m    284\u001b[0m     )\n\u001b[0;32m--> 286\u001b[0m \u001b[38;5;28;01mreturn\u001b[39;00m io_open(file, \u001b[38;5;241m*\u001b[39margs, \u001b[38;5;241m*\u001b[39m\u001b[38;5;241m*\u001b[39mkwargs)\n",
      "\u001b[0;31mFileNotFoundError\u001b[0m: [Errno 2] No such file or directory: 'D'"
     ]
    }
   ],
   "source": [
    "for fn in fr:\n",
    "    import csv\n",
    "    with open(fn) as f:\n",
    "        reader = csv.reader(f, delimiter=\"\\t\")\n",
    "        d = list(reader)\n",
    "    names = []\n",
    "    for i in range(6,len(d)-1):\n",
    "        name = d[i][0].split(\" \")[0]\n",
    "        names.append(name)\n",
    "\n",
    "    countries =[]\n",
    "    continents = []\n",
    "    d = [\"\\t\".join([\"traits\",\"host\",\"country\",\"continents\"])]\n",
    "    for name in names:\n",
    "        k = name.split(\"_\")\n",
    "        host_name = k[0]+\" \"+k[1]\n",
    "        if (host_name=='Apis mellifera'):\n",
    "            host_type = \"Apis-mellifera\"\n",
    "        elif (k[0]=='Apis'):\n",
    "            host_type =\"Other-Apis\"\n",
    "        elif (k[0]=='Varroa'):\n",
    "            host_type =\"Varroa\"\n",
    "        elif (host_name in bees):\n",
    "            host_type = \"Other-Bees\"\n",
    "        else:\n",
    "            host_type = \"Other-Arthropods\"\n",
    "\n",
    "\n",
    "\n",
    "\n",
    "        try:\n",
    "           country = k[2]\n",
    "           continent = country_to_continent(country)\n",
    "        except:\n",
    "            try:\n",
    "                country = k[2]+\" \"+k[3]\n",
    "                continent = country_to_continent(country)\n",
    "            except:\n",
    "                try:\n",
    "                    country = k[2]+\" \"+k[3]+\" \"+k[4]\n",
    "                    continent = country_to_continent(country)\n",
    "                except:\n",
    "                    try:\n",
    "                        country = k[1]\n",
    "                        continent = country_to_continent(country)\n",
    "                    except:\n",
    "                        try:\n",
    "                            country = k[1]+\" \"+k[2]\n",
    "                            continent = country_to_continent(country)\n",
    "                        except:\n",
    "                            try:\n",
    "                                country = k[1]+\" \"+k[2]+\" \"+k[3]\n",
    "                                continent = country_to_continent(country)\n",
    "                            except:\n",
    "                                country = \"?\"\n",
    "                                continent = \"?\"\n",
    "        countries.append(country)\n",
    "        continents.append(continent)\n",
    "        d.append(\"\\t\".join([name,host_type,country,continent]))\n",
    "        with open(str(fn)+'.tsv', 'w') as f:\n",
    "            for line in d:\n",
    "                f.write(\"%s\\n\" % line)"
   ]
  },
  {
   "cell_type": "code",
   "execution_count": null,
   "id": "5910e9f5",
   "metadata": {},
   "outputs": [],
   "source": []
  }
 ],
 "metadata": {
  "kernelspec": {
   "display_name": "Python 3 (ipykernel)",
   "language": "python",
   "name": "python3"
  },
  "language_info": {
   "codemirror_mode": {
    "name": "ipython",
    "version": 3
   },
   "file_extension": ".py",
   "mimetype": "text/x-python",
   "name": "python",
   "nbconvert_exporter": "python",
   "pygments_lexer": "ipython3",
   "version": "3.11.5"
  }
 },
 "nbformat": 4,
 "nbformat_minor": 5
}
