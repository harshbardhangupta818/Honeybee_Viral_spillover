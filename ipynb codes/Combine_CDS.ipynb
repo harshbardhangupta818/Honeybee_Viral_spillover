{
 "cells": [
  {
   "cell_type": "code",
   "execution_count": 25,
   "id": "544af8ef",
   "metadata": {},
   "outputs": [],
   "source": [
    "import glob\n",
    "import os\n",
    "os.chdir(\"/Users/hbg/Documents/filtered_contigs/SBPV/\")\n",
    "f1 = glob.glob(\"output_CDS_main/*\")"
   ]
  },
  {
   "cell_type": "code",
   "execution_count": 26,
   "id": "f22a94de",
   "metadata": {},
   "outputs": [],
   "source": [
    "file_name = [os.path.basename(f) for f in f1]\n",
    "basenames = [f.replace(\".txt\", \"\") for f in file_name]"
   ]
  },
  {
   "cell_type": "code",
   "execution_count": 27,
   "id": "6a14203b",
   "metadata": {},
   "outputs": [
    {
     "data": {
      "text/plain": [
       "('output_CDS_main/Bombus_terrestris_China_@2018-01-01@32.fa',\n",
       " 'Bombus_terrestris_China_@2018-01-01@32.fa')"
      ]
     },
     "execution_count": 27,
     "metadata": {},
     "output_type": "execute_result"
    }
   ],
   "source": [
    "f1[1], basenames[1]"
   ]
  },
  {
   "cell_type": "code",
   "execution_count": 28,
   "id": "11f4fb2a",
   "metadata": {},
   "outputs": [
    {
     "data": {
      "text/plain": [
       "'>Bombus_terrestris_China_@2018-01-01@32'"
      ]
     },
     "execution_count": 28,
     "metadata": {},
     "output_type": "execute_result"
    }
   ],
   "source": [
    "basenames = ['>'+s[:-3] for s in basenames]\n",
    "basenames[1]"
   ]
  },
  {
   "cell_type": "code",
   "execution_count": 29,
   "id": "30d37558",
   "metadata": {},
   "outputs": [],
   "source": [
    "import csv\n",
    "total = 0\n",
    "count = 0\n",
    "combined_cds= []\n",
    "for i in range(0,len(f1)):\n",
    "    total+=1\n",
    "    with open(f1[i]) as f:\n",
    "        reader = csv.reader(f, delimiter=\"\\t\")\n",
    "        d = list(reader)\n",
    "        combined_cds.append([basenames[i]])\n",
    "        combined_cds.append(d[1])\n",
    "         "
   ]
  },
  {
   "cell_type": "code",
   "execution_count": 30,
   "id": "fcd41e06",
   "metadata": {},
   "outputs": [],
   "source": [
    "with open(\"SBPV_CDS_main.fasta\", 'w') as f:\n",
    "    for item in combined_cds: \n",
    "                writer = csv.writer(f)\n",
    "                writer.writerow(item)"
   ]
  },
  {
   "cell_type": "code",
   "execution_count": null,
   "id": "23f628ae",
   "metadata": {},
   "outputs": [],
   "source": []
  },
  {
   "cell_type": "code",
   "execution_count": null,
   "id": "52748f11",
   "metadata": {},
   "outputs": [],
   "source": []
  }
 ],
 "metadata": {
  "kernelspec": {
   "display_name": "Python 3 (ipykernel)",
   "language": "python",
   "name": "python3"
  },
  "language_info": {
   "codemirror_mode": {
    "name": "ipython",
    "version": 3
   },
   "file_extension": ".py",
   "mimetype": "text/x-python",
   "name": "python",
   "nbconvert_exporter": "python",
   "pygments_lexer": "ipython3",
   "version": "3.11.5"
  }
 },
 "nbformat": 4,
 "nbformat_minor": 5
}
