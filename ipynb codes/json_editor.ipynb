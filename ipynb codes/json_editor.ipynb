{
 "cells": [
  {
   "cell_type": "code",
   "execution_count": 17,
   "id": "95d55cc4",
   "metadata": {
    "scrolled": true
   },
   "outputs": [],
   "source": [
    "import json\n",
    "import glob\n",
    "import os\n",
    "os.chdir(\"/Users/hbg/Documents/filtered_contigs/first_alignment_60/Beast_results_2/DWV/\")"
   ]
  },
  {
   "cell_type": "code",
   "execution_count": 18,
   "id": "f4939e1e",
   "metadata": {},
   "outputs": [],
   "source": [
    "file = 'DWV_location'\n",
    "# Load the JSON data from file\n",
    "with open(file, 'r') as file:\n",
    "    data = json.load(file)\n"
   ]
  },
  {
   "cell_type": "code",
   "execution_count": 19,
   "id": "72e44556",
   "metadata": {},
   "outputs": [
    {
     "data": {
      "text/plain": [
       "405"
      ]
     },
     "execution_count": 19,
     "metadata": {},
     "output_type": "execute_result"
    }
   ],
   "source": [
    "line_data = data['layers'][2]['lines']\n",
    "\n",
    "len(line_data)"
   ]
  },
  {
   "cell_type": "code",
   "execution_count": 20,
   "id": "092a8439",
   "metadata": {},
   "outputs": [],
   "source": [
    "point_data = data['layers'][2]['points']"
   ]
  },
  {
   "cell_type": "code",
   "execution_count": 21,
   "id": "405fe12e",
   "metadata": {},
   "outputs": [],
   "source": [
    "# Create a dictionary to store id and its corresponding locationId\n",
    "id_location_dict = {}\n",
    "\n",
    "# Iterate through the points and add id-locationId pairs to the dictionary\n",
    "for point in point_data:\n",
    "    id_location_dict[point['id']] = point['locationId']"
   ]
  },
  {
   "cell_type": "code",
   "execution_count": 22,
   "id": "3d217185",
   "metadata": {},
   "outputs": [
    {
     "data": {
      "text/plain": [
       "'Asia'"
      ]
     },
     "execution_count": 22,
     "metadata": {},
     "output_type": "execute_result"
    }
   ],
   "source": [
    "id_location_dict[line_data[1]['endPointId']]"
   ]
  },
  {
   "cell_type": "code",
   "execution_count": 23,
   "id": "b5f6eaa2",
   "metadata": {},
   "outputs": [],
   "source": [
    "unique_combinations = {}  # Dictionary to store only the oldest entry for each combination\n",
    "oldest_start_years = {}  # Dictionary to store the oldest start year for each combination\n",
    "\n",
    "# Iterate through each entry and extract the year from startTime\n",
    "for entry in line_data:\n",
    "    end_point = entry['endPointId']\n",
    "    start_point = entry['startPointId']\n",
    "    end_country = id_location_dict[end_point]\n",
    "    start_country = id_location_dict[start_point]\n",
    "    combination = (start_country, end_country)\n",
    "    start_year = int(entry['startTime'][:4])  # Extract year and convert to int\n",
    "    entry['attributes']['startYear'] = start_year  # Add startYear to attributes\n",
    "    \n",
    "    # Check if the combination already exists in unique_combinations\n",
    "    if combination in unique_combinations:\n",
    "        # Check if the current entry's start year is older than the existing entry\n",
    "        if start_year < unique_combinations[combination]['attributes']['startYear']:\n",
    "            unique_combinations[combination] = entry\n",
    "    else:\n",
    "        unique_combinations[combination] = entry\n",
    "        \n",
    "    # Update oldest start year for the combination\n",
    "    if combination in oldest_start_years:\n",
    "        if start_year < oldest_start_years[combination]:\n",
    "            oldest_start_years[combination] = start_year\n",
    "    else:\n",
    "        oldest_start_years[combination] = start_year\n",
    "\n",
    "# Update line_data with filtered entries\n",
    "line_data = list(unique_combinations.values())\n",
    "data['layers'][2]['lines'] = line_data\n",
    "\n"
   ]
  },
  {
   "cell_type": "code",
   "execution_count": 24,
   "id": "ec3e942e",
   "metadata": {},
   "outputs": [
    {
     "data": {
      "text/plain": [
       "[1712,\n",
       " 1712,\n",
       " 1839,\n",
       " 1839,\n",
       " 1970,\n",
       " 1976,\n",
       " 1979,\n",
       " 1979,\n",
       " 1980,\n",
       " 1983,\n",
       " 1985,\n",
       " 1985,\n",
       " 1988,\n",
       " 1989,\n",
       " 1989,\n",
       " 1992,\n",
       " 1995,\n",
       " 1997,\n",
       " 2001,\n",
       " 2003,\n",
       " 2005,\n",
       " 2005,\n",
       " 2006,\n",
       " 2006,\n",
       " 2007,\n",
       " 2007,\n",
       " 2007,\n",
       " 2011,\n",
       " 2014,\n",
       " 2015]"
      ]
     },
     "execution_count": 24,
     "metadata": {},
     "output_type": "execute_result"
    }
   ],
   "source": [
    "year_list = [*oldest_start_years.values()]\n",
    "sorted_year_list = sorted(year_list)\n",
    "sorted_year_list"
   ]
  },
  {
   "cell_type": "code",
   "execution_count": 25,
   "id": "b3556dfc",
   "metadata": {},
   "outputs": [],
   "source": [
    "\n",
    "\n",
    "# Create the new line-attribute object\n",
    "start_year_attribute = {\n",
    "    \"id\": \"startYear\",\n",
    "    \"scale\": \"linear\",\n",
    "    \"range\": [sorted_year_list[0],sorted_year_list[-1]]\n",
    "}\n",
    "\n",
    "# Add the new line-attribute to lineAttributes\n",
    "data['lineAttributes'].append(start_year_attribute)"
   ]
  },
  {
   "cell_type": "code",
   "execution_count": 26,
   "id": "d1c128b9",
   "metadata": {},
   "outputs": [],
   "source": [
    "# Save the modified data back to file or do further processing\n",
    "with open('modified_location.json', 'w') as file:\n",
    "    json.dump(data, file, indent=2)  # Save modified data with indentation for readability\n"
   ]
  },
  {
   "cell_type": "code",
   "execution_count": 27,
   "id": "65fdb9af",
   "metadata": {},
   "outputs": [
    {
     "data": {
      "text/plain": [
       "30"
      ]
     },
     "execution_count": 27,
     "metadata": {},
     "output_type": "execute_result"
    }
   ],
   "source": [
    "len(line_data)"
   ]
  },
  {
   "cell_type": "code",
   "execution_count": null,
   "id": "911cd914",
   "metadata": {},
   "outputs": [],
   "source": []
  }
 ],
 "metadata": {
  "kernelspec": {
   "display_name": "Python 3 (ipykernel)",
   "language": "python",
   "name": "python3"
  },
  "language_info": {
   "codemirror_mode": {
    "name": "ipython",
    "version": 3
   },
   "file_extension": ".py",
   "mimetype": "text/x-python",
   "name": "python",
   "nbconvert_exporter": "python",
   "pygments_lexer": "ipython3",
   "version": "3.11.5"
  }
 },
 "nbformat": 4,
 "nbformat_minor": 5
}
