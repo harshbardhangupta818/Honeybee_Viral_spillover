{
 "cells": [
  {
   "cell_type": "code",
   "execution_count": 17,
   "id": "544af8ef",
   "metadata": {},
   "outputs": [],
   "source": [
    "import glob\n",
    "import os\n",
    "os.chdir(\"/Users/hbg/Documents/filtered_contigs/KV\")\n",
    "f1 = glob.glob(\"best_hit/Megahit_assembled/*\")"
   ]
  },
  {
   "cell_type": "code",
   "execution_count": 18,
   "id": "f22a94de",
   "metadata": {},
   "outputs": [
    {
     "data": {
      "text/plain": [
       "'best_hit/Megahit_assembled/SRR14888015.txt'"
      ]
     },
     "execution_count": 18,
     "metadata": {},
     "output_type": "execute_result"
    }
   ],
   "source": [
    "f1[1]"
   ]
  },
  {
   "cell_type": "code",
   "execution_count": 19,
   "id": "1efc28c4",
   "metadata": {},
   "outputs": [],
   "source": [
    "file_name = [os.path.basename(f) for f in f1]\n",
    "SRAs = [f.replace(\".txt\", \"\") for f in file_name]"
   ]
  },
  {
   "cell_type": "code",
   "execution_count": 20,
   "id": "62cf80ab",
   "metadata": {},
   "outputs": [
    {
     "data": {
      "text/plain": [
       "'SRR14888015'"
      ]
     },
     "execution_count": 20,
     "metadata": {},
     "output_type": "execute_result"
    }
   ],
   "source": [
    "SRAs[1]"
   ]
  },
  {
   "cell_type": "code",
   "execution_count": 21,
   "id": "59cb5d9d",
   "metadata": {},
   "outputs": [],
   "source": [
    "import pandas as pd\n",
    "data = pd.read_csv(\"KV.csv\")\n",
    "acc = list(data.acc)"
   ]
  },
  {
   "cell_type": "code",
   "execution_count": 22,
   "id": "0171699c",
   "metadata": {},
   "outputs": [],
   "source": [
    "import pycountry_convert as pc\n",
    "\n",
    "def country_to_continent(country_name):\n",
    "    country_alpha2 = pc.country_name_to_country_alpha2(country_name)\n",
    "    country_continent_code = pc.country_alpha2_to_continent_code(country_alpha2)\n",
    "    country_continent_name = pc.convert_continent_code_to_continent_name(country_continent_code)\n",
    "    return country_continent_name\n"
   ]
  },
  {
   "cell_type": "code",
   "execution_count": 23,
   "id": "c7514988",
   "metadata": {},
   "outputs": [
    {
     "name": "stdout",
     "output_type": "stream",
     "text": [
      "Europe\n"
     ]
    }
   ],
   "source": [
    "country_name = 'Germany'\n",
    "print(country_to_continent(country_name))"
   ]
  },
  {
   "cell_type": "code",
   "execution_count": 24,
   "id": "6879613a",
   "metadata": {},
   "outputs": [
    {
     "data": {
      "text/plain": [
       "('Varroa destructor', 'China', nan)"
      ]
     },
     "execution_count": 24,
     "metadata": {},
     "output_type": "execute_result"
    }
   ],
   "source": [
    "acc.index(SRAs[1])\n",
    "data.organism[0],data.geo_loc_name_country_calc[0],data.collection_date_sam[0]"
   ]
  },
  {
   "cell_type": "code",
   "execution_count": 25,
   "id": "ea05e2fb",
   "metadata": {},
   "outputs": [
    {
     "data": {
      "text/plain": [
       "str"
      ]
     },
     "execution_count": 25,
     "metadata": {},
     "output_type": "execute_result"
    }
   ],
   "source": [
    "type(data.geo_loc_name_country_calc[23])"
   ]
  },
  {
   "cell_type": "code",
   "execution_count": 26,
   "id": "30d37558",
   "metadata": {},
   "outputs": [],
   "source": [
    "import csv\n",
    "import re\n",
    "total = 0\n",
    "count = 0\n",
    "filenames = []\n",
    "country_names =[]\n",
    "location = []\n",
    "os.mkdir('filtered_with_host_names/')\n",
    "\n",
    "for i in range(0,len(f1)):\n",
    "    try:\n",
    "        total+=1\n",
    "        with open(f1[i]) as f:\n",
    "            reader = csv.reader(f, delimiter=\"\\n\")\n",
    "            d = list(reader)\n",
    "            k = d[0][0].split()\n",
    "        if (float(k[1]) > 80 and float(k[2]) > 5000 and float(k[3]) == 0.0 and float(k[4]) > 6000):\n",
    "            count+=1\n",
    "            ind = acc.index(SRAs[i])\n",
    "\n",
    "            if (type(data.collection_date_sam[ind])==str):\n",
    "                year = data.collection_date_sam[ind][1:-1]\n",
    "            else:\n",
    "                year = '2018-01-01'\n",
    "            if (type(data.geo_loc_name_country_calc[ind])==str and data.geo_loc_name_country_calc[ind] != 'uncalculated'):\n",
    "                country = data.geo_loc_name_country_calc[ind]\n",
    "                country_names.append(country)\n",
    "                location.append(country_to_continent(country))\n",
    "            else:\n",
    "                country = 'Unknown'\n",
    "                country_names.append(country)\n",
    "                location.append(\"?\")\n",
    "\n",
    "            name = data.organism[ind] + '_' + country + '_@' + year + '@' + str(i)\n",
    "            name = re.sub(\" \",\"_\",name)\n",
    "            filenames.append(name)\n",
    "            with open(\"filtered_with_host_names/\"+name+\".fa\", 'w') as f:\n",
    "                writer = csv.writer(f)\n",
    "                writer.writerow(d[1:][0])\n",
    "                writer.writerow(d[2:][0])\n",
    "    except:\n",
    "        total+=1"
   ]
  },
  {
   "cell_type": "code",
   "execution_count": 27,
   "id": "fcd41e06",
   "metadata": {},
   "outputs": [
    {
     "data": {
      "text/plain": [
       "(170, 321)"
      ]
     },
     "execution_count": 27,
     "metadata": {},
     "output_type": "execute_result"
    }
   ],
   "source": [
    "count,total"
   ]
  },
  {
   "cell_type": "code",
   "execution_count": 28,
   "id": "60d61d96",
   "metadata": {},
   "outputs": [],
   "source": [
    "with open('host_names.txt', 'w') as f:\n",
    "    for line in filenames:\n",
    "        f.write(\"%s\\n\" % line)"
   ]
  },
  {
   "cell_type": "code",
   "execution_count": 29,
   "id": "c3b074f6",
   "metadata": {},
   "outputs": [
    {
     "name": "stdout",
     "output_type": "stream",
     "text": [
      "                                          traits      country continents\n",
      "0    Varroa_destructor_New_Zealand_@2018-01-01@0  New Zealand    Oceania\n",
      "1           Apis_mellifera_Unknown_@2018-01-01@1      Unknown          ?\n",
      "2       Apis_mellifera_South_Korea_@2018-08-22@7  South Korea       Asia\n",
      "3           Apis_mellifera_Unknown_@2018-01-01@9      Unknown          ?\n",
      "4         Varroa_destructor_China_@2018-01-01@14        China       Asia\n",
      "..                                           ...          ...        ...\n",
      "165    Varroa_destructor_Unknown_@2018-01-01@313      Unknown          ?\n",
      "166     Varroa_destructor_Poland_@2000-04-12@314       Poland     Europe\n",
      "167    Varroa_destructor_Unknown_@2018-01-01@315      Unknown          ?\n",
      "168   Apis_mellifera_South_Korea_@2018-08-22@317  South Korea       Asia\n",
      "169        Apis_mellifera_Turkey_@2021-07-01@320       Turkey       Asia\n",
      "\n",
      "[170 rows x 3 columns]\n"
     ]
    }
   ],
   "source": [
    "df = pd.DataFrame(list(zip(filenames, country_names, location)), columns =['traits', 'country', 'continents']) \n",
    "df.to_csv('host_names_with_locations.txt', sep='\\t', encoding='utf-8')\n",
    "print(df) \n"
   ]
  },
  {
   "cell_type": "code",
   "execution_count": null,
   "id": "44d50473",
   "metadata": {},
   "outputs": [],
   "source": []
  },
  {
   "cell_type": "code",
   "execution_count": null,
   "id": "489c2d75",
   "metadata": {},
   "outputs": [],
   "source": []
  }
 ],
 "metadata": {
  "kernelspec": {
   "display_name": "Python 3 (ipykernel)",
   "language": "python",
   "name": "python3"
  },
  "language_info": {
   "codemirror_mode": {
    "name": "ipython",
    "version": 3
   },
   "file_extension": ".py",
   "mimetype": "text/x-python",
   "name": "python",
   "nbconvert_exporter": "python",
   "pygments_lexer": "ipython3",
   "version": "3.11.5"
  }
 },
 "nbformat": 4,
 "nbformat_minor": 5
}
